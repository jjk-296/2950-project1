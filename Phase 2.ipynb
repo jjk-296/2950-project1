{
 "cells": [
  {
   "cell_type": "code",
   "execution_count": 1,
   "id": "57bd795a",
   "metadata": {},
   "outputs": [
    {
     "name": "stderr",
     "output_type": "stream",
     "text": [
      "/Applications/anaconda3/lib/python3.9/site-packages/scipy/__init__.py:146: UserWarning: A NumPy version >=1.16.5 and <1.23.0 is required for this version of SciPy (detected version 1.23.0\n",
      "  warnings.warn(f\"A NumPy version >={np_minversion} and <{np_maxversion}\"\n"
     ]
    }
   ],
   "source": [
    "import numpy as np\n",
    "import seaborn as sns\n",
    "import pandas as pd\n",
    "import matplotlib.pyplot as plt\n",
    "\n",
    "import requests\n",
    "from bs4 import BeautifulSoup\n",
    "\n",
    "import pandas as pd\n",
    "import numpy as np\n",
    "import time\n",
    "\n",
    "import seaborn\n",
    "from matplotlib import pyplot\n",
    "\n",
    "from sklearn.linear_model import LogisticRegression"
   ]
  },
  {
   "cell_type": "code",
   "execution_count": 2,
   "id": "5953bba6",
   "metadata": {},
   "outputs": [],
   "source": [
    "netflix_df = pd.read_csv(\"netflix.csv\")"
   ]
  },
  {
   "cell_type": "code",
   "execution_count": 3,
   "id": "88b083d7",
   "metadata": {},
   "outputs": [
    {
     "data": {
      "text/html": [
       "<div>\n",
       "<style scoped>\n",
       "    .dataframe tbody tr th:only-of-type {\n",
       "        vertical-align: middle;\n",
       "    }\n",
       "\n",
       "    .dataframe tbody tr th {\n",
       "        vertical-align: top;\n",
       "    }\n",
       "\n",
       "    .dataframe thead th {\n",
       "        text-align: right;\n",
       "    }\n",
       "</style>\n",
       "<table border=\"1\" class=\"dataframe\">\n",
       "  <thead>\n",
       "    <tr style=\"text-align: right;\">\n",
       "      <th></th>\n",
       "      <th>Date</th>\n",
       "      <th>High</th>\n",
       "      <th>Low</th>\n",
       "      <th>Open</th>\n",
       "      <th>Close</th>\n",
       "      <th>Volume</th>\n",
       "      <th>Adj Close</th>\n",
       "    </tr>\n",
       "  </thead>\n",
       "  <tbody>\n",
       "    <tr>\n",
       "      <th>0</th>\n",
       "      <td>2002-05-23</td>\n",
       "      <td>1.242857</td>\n",
       "      <td>1.145714</td>\n",
       "      <td>1.156429</td>\n",
       "      <td>1.196429</td>\n",
       "      <td>104790000.0</td>\n",
       "      <td>1.196429</td>\n",
       "    </tr>\n",
       "    <tr>\n",
       "      <th>1</th>\n",
       "      <td>2002-05-24</td>\n",
       "      <td>1.225000</td>\n",
       "      <td>1.197143</td>\n",
       "      <td>1.214286</td>\n",
       "      <td>1.210000</td>\n",
       "      <td>11104800.0</td>\n",
       "      <td>1.210000</td>\n",
       "    </tr>\n",
       "    <tr>\n",
       "      <th>2</th>\n",
       "      <td>2002-05-28</td>\n",
       "      <td>1.232143</td>\n",
       "      <td>1.157143</td>\n",
       "      <td>1.213571</td>\n",
       "      <td>1.157143</td>\n",
       "      <td>6609400.0</td>\n",
       "      <td>1.157143</td>\n",
       "    </tr>\n",
       "    <tr>\n",
       "      <th>3</th>\n",
       "      <td>2002-05-29</td>\n",
       "      <td>1.164286</td>\n",
       "      <td>1.085714</td>\n",
       "      <td>1.164286</td>\n",
       "      <td>1.103571</td>\n",
       "      <td>6757800.0</td>\n",
       "      <td>1.103571</td>\n",
       "    </tr>\n",
       "    <tr>\n",
       "      <th>4</th>\n",
       "      <td>2002-05-30</td>\n",
       "      <td>1.107857</td>\n",
       "      <td>1.071429</td>\n",
       "      <td>1.107857</td>\n",
       "      <td>1.071429</td>\n",
       "      <td>10154200.0</td>\n",
       "      <td>1.071429</td>\n",
       "    </tr>\n",
       "    <tr>\n",
       "      <th>...</th>\n",
       "      <td>...</td>\n",
       "      <td>...</td>\n",
       "      <td>...</td>\n",
       "      <td>...</td>\n",
       "      <td>...</td>\n",
       "      <td>...</td>\n",
       "      <td>...</td>\n",
       "    </tr>\n",
       "    <tr>\n",
       "      <th>4876</th>\n",
       "      <td>2021-10-05</td>\n",
       "      <td>640.390015</td>\n",
       "      <td>606.890015</td>\n",
       "      <td>606.940002</td>\n",
       "      <td>634.809998</td>\n",
       "      <td>9534300.0</td>\n",
       "      <td>634.809998</td>\n",
       "    </tr>\n",
       "    <tr>\n",
       "      <th>4877</th>\n",
       "      <td>2021-10-06</td>\n",
       "      <td>639.869995</td>\n",
       "      <td>626.359985</td>\n",
       "      <td>628.179993</td>\n",
       "      <td>639.099976</td>\n",
       "      <td>4580400.0</td>\n",
       "      <td>639.099976</td>\n",
       "    </tr>\n",
       "    <tr>\n",
       "      <th>4878</th>\n",
       "      <td>2021-10-07</td>\n",
       "      <td>646.840027</td>\n",
       "      <td>630.450012</td>\n",
       "      <td>642.229980</td>\n",
       "      <td>631.849976</td>\n",
       "      <td>3556900.0</td>\n",
       "      <td>631.849976</td>\n",
       "    </tr>\n",
       "    <tr>\n",
       "      <th>4879</th>\n",
       "      <td>2021-10-08</td>\n",
       "      <td>643.799988</td>\n",
       "      <td>630.859985</td>\n",
       "      <td>634.169983</td>\n",
       "      <td>632.659973</td>\n",
       "      <td>3271100.0</td>\n",
       "      <td>632.659973</td>\n",
       "    </tr>\n",
       "    <tr>\n",
       "      <th>4880</th>\n",
       "      <td>2021-10-11</td>\n",
       "      <td>639.419983</td>\n",
       "      <td>626.780029</td>\n",
       "      <td>633.200012</td>\n",
       "      <td>627.039978</td>\n",
       "      <td>2861200.0</td>\n",
       "      <td>627.039978</td>\n",
       "    </tr>\n",
       "  </tbody>\n",
       "</table>\n",
       "<p>4881 rows × 7 columns</p>\n",
       "</div>"
      ],
      "text/plain": [
       "            Date        High         Low        Open       Close       Volume  \\\n",
       "0     2002-05-23    1.242857    1.145714    1.156429    1.196429  104790000.0   \n",
       "1     2002-05-24    1.225000    1.197143    1.214286    1.210000   11104800.0   \n",
       "2     2002-05-28    1.232143    1.157143    1.213571    1.157143    6609400.0   \n",
       "3     2002-05-29    1.164286    1.085714    1.164286    1.103571    6757800.0   \n",
       "4     2002-05-30    1.107857    1.071429    1.107857    1.071429   10154200.0   \n",
       "...          ...         ...         ...         ...         ...          ...   \n",
       "4876  2021-10-05  640.390015  606.890015  606.940002  634.809998    9534300.0   \n",
       "4877  2021-10-06  639.869995  626.359985  628.179993  639.099976    4580400.0   \n",
       "4878  2021-10-07  646.840027  630.450012  642.229980  631.849976    3556900.0   \n",
       "4879  2021-10-08  643.799988  630.859985  634.169983  632.659973    3271100.0   \n",
       "4880  2021-10-11  639.419983  626.780029  633.200012  627.039978    2861200.0   \n",
       "\n",
       "       Adj Close  \n",
       "0       1.196429  \n",
       "1       1.210000  \n",
       "2       1.157143  \n",
       "3       1.103571  \n",
       "4       1.071429  \n",
       "...          ...  \n",
       "4876  634.809998  \n",
       "4877  639.099976  \n",
       "4878  631.849976  \n",
       "4879  632.659973  \n",
       "4880  627.039978  \n",
       "\n",
       "[4881 rows x 7 columns]"
      ]
     },
     "execution_count": 3,
     "metadata": {},
     "output_type": "execute_result"
    }
   ],
   "source": [
    "netflix_df"
   ]
  },
  {
   "cell_type": "code",
   "execution_count": 4,
   "id": "a80145f6",
   "metadata": {},
   "outputs": [],
   "source": [
    "boxoffice_df = pd.read_csv(\"worldwideboxoffice.csv\")"
   ]
  },
  {
   "cell_type": "code",
   "execution_count": 5,
   "id": "153d8371",
   "metadata": {},
   "outputs": [
    {
     "data": {
      "text/html": [
       "<div>\n",
       "<style scoped>\n",
       "    .dataframe tbody tr th:only-of-type {\n",
       "        vertical-align: middle;\n",
       "    }\n",
       "\n",
       "    .dataframe tbody tr th {\n",
       "        vertical-align: top;\n",
       "    }\n",
       "\n",
       "    .dataframe thead th {\n",
       "        text-align: right;\n",
       "    }\n",
       "</style>\n",
       "<table border=\"1\" class=\"dataframe\">\n",
       "  <thead>\n",
       "    <tr style=\"text-align: right;\">\n",
       "      <th></th>\n",
       "      <th>Rank</th>\n",
       "      <th>Year</th>\n",
       "      <th>Movie</th>\n",
       "      <th>WorldwideBox Office</th>\n",
       "      <th>DomesticBox Office</th>\n",
       "      <th>InternationalBox Office</th>\n",
       "    </tr>\n",
       "  </thead>\n",
       "  <tbody>\n",
       "    <tr>\n",
       "      <th>0</th>\n",
       "      <td>1</td>\n",
       "      <td>2009</td>\n",
       "      <td>Avatar</td>\n",
       "      <td>$2,845,899,541</td>\n",
       "      <td>$760,507,625</td>\n",
       "      <td>$2,085,391,916</td>\n",
       "    </tr>\n",
       "    <tr>\n",
       "      <th>1</th>\n",
       "      <td>2</td>\n",
       "      <td>2019</td>\n",
       "      <td>Avengers: Endgame</td>\n",
       "      <td>$2,797,800,564</td>\n",
       "      <td>$858,373,000</td>\n",
       "      <td>$1,939,427,564</td>\n",
       "    </tr>\n",
       "    <tr>\n",
       "      <th>2</th>\n",
       "      <td>3</td>\n",
       "      <td>1997</td>\n",
       "      <td>Titanic</td>\n",
       "      <td>$2,207,986,545</td>\n",
       "      <td>$659,363,944</td>\n",
       "      <td>$1,548,622,601</td>\n",
       "    </tr>\n",
       "    <tr>\n",
       "      <th>3</th>\n",
       "      <td>4</td>\n",
       "      <td>2015</td>\n",
       "      <td>Star Wars Ep. VII: The Force Awakens</td>\n",
       "      <td>$2,064,615,817</td>\n",
       "      <td>$936,662,225</td>\n",
       "      <td>$1,127,953,592</td>\n",
       "    </tr>\n",
       "    <tr>\n",
       "      <th>4</th>\n",
       "      <td>5</td>\n",
       "      <td>2018</td>\n",
       "      <td>Avengers: Infinity War</td>\n",
       "      <td>$2,044,540,523</td>\n",
       "      <td>$678,815,482</td>\n",
       "      <td>$1,365,725,041</td>\n",
       "    </tr>\n",
       "    <tr>\n",
       "      <th>5</th>\n",
       "      <td>6</td>\n",
       "      <td>2015</td>\n",
       "      <td>Jurassic World</td>\n",
       "      <td>$1,669,979,967</td>\n",
       "      <td>$652,306,625</td>\n",
       "      <td>$1,017,673,342</td>\n",
       "    </tr>\n",
       "    <tr>\n",
       "      <th>6</th>\n",
       "      <td>7</td>\n",
       "      <td>2019</td>\n",
       "      <td>The Lion King</td>\n",
       "      <td>$1,654,367,425</td>\n",
       "      <td>$543,638,043</td>\n",
       "      <td>$1,110,729,382</td>\n",
       "    </tr>\n",
       "    <tr>\n",
       "      <th>7</th>\n",
       "      <td>8</td>\n",
       "      <td>2015</td>\n",
       "      <td>Furious 7</td>\n",
       "      <td>$1,516,881,526</td>\n",
       "      <td>$353,007,020</td>\n",
       "      <td>$1,163,874,506</td>\n",
       "    </tr>\n",
       "    <tr>\n",
       "      <th>8</th>\n",
       "      <td>9</td>\n",
       "      <td>2012</td>\n",
       "      <td>The Avengers</td>\n",
       "      <td>$1,515,100,211</td>\n",
       "      <td>$623,357,910</td>\n",
       "      <td>$891,742,301</td>\n",
       "    </tr>\n",
       "    <tr>\n",
       "      <th>9</th>\n",
       "      <td>10</td>\n",
       "      <td>2019</td>\n",
       "      <td>Frozen II</td>\n",
       "      <td>$1,446,925,396</td>\n",
       "      <td>$477,373,578</td>\n",
       "      <td>$969,551,818</td>\n",
       "    </tr>\n",
       "  </tbody>\n",
       "</table>\n",
       "</div>"
      ],
      "text/plain": [
       "   Rank  Year                                 Movie WorldwideBox Office  \\\n",
       "0     1  2009                                Avatar      $2,845,899,541   \n",
       "1     2  2019                     Avengers: Endgame      $2,797,800,564   \n",
       "2     3  1997                               Titanic      $2,207,986,545   \n",
       "3     4  2015  Star Wars Ep. VII: The Force Awakens      $2,064,615,817   \n",
       "4     5  2018                Avengers: Infinity War      $2,044,540,523   \n",
       "5     6  2015                        Jurassic World      $1,669,979,967   \n",
       "6     7  2019                         The Lion King      $1,654,367,425   \n",
       "7     8  2015                             Furious 7      $1,516,881,526   \n",
       "8     9  2012                          The Avengers      $1,515,100,211   \n",
       "9    10  2019                             Frozen II      $1,446,925,396   \n",
       "\n",
       "  DomesticBox Office InternationalBox Office  \n",
       "0       $760,507,625          $2,085,391,916  \n",
       "1       $858,373,000          $1,939,427,564  \n",
       "2       $659,363,944          $1,548,622,601  \n",
       "3       $936,662,225          $1,127,953,592  \n",
       "4       $678,815,482          $1,365,725,041  \n",
       "5       $652,306,625          $1,017,673,342  \n",
       "6       $543,638,043          $1,110,729,382  \n",
       "7       $353,007,020          $1,163,874,506  \n",
       "8       $623,357,910            $891,742,301  \n",
       "9       $477,373,578            $969,551,818  "
      ]
     },
     "execution_count": 5,
     "metadata": {},
     "output_type": "execute_result"
    }
   ],
   "source": [
    "boxoffice_df.head(10)"
   ]
  },
  {
   "cell_type": "code",
   "execution_count": 6,
   "id": "24f0461b",
   "metadata": {},
   "outputs": [
    {
     "data": {
      "text/plain": [
       "<AxesSubplot:xlabel='Year', ylabel='WorldwideBox Office'>"
      ]
     },
     "execution_count": 6,
     "metadata": {},
     "output_type": "execute_result"
    },
    {
     "data": {
      "image/png": "[encoded data removed]",
      "text/plain": [
       "<Figure size 432x288 with 1 Axes>"
      ]
     },
     "metadata": {
      "needs_background": "light"
     },
     "output_type": "display_data"
    }
   ],
   "source": [
    "seaborn.lineplot(data = boxoffice_df, x = \"Year\", y = \"WorldwideBox Office\")"
   ]
  },
  {
   "cell_type": "code",
   "execution_count": 7,
   "id": "a4339351",
   "metadata": {},
   "outputs": [
    {
     "data": {
      "text/plain": [
       "<AxesSubplot:xlabel='Year', ylabel='High'>"
      ]
     },
     "execution_count": 7,
     "metadata": {},
     "output_type": "execute_result"
    },
    {
     "data": {
      "image/png": "[encoded data removed]",
      "text/plain": [
       "<Figure size 432x288 with 1 Axes>"
      ]
     },
     "metadata": {
      "needs_background": "light"
     },
     "output_type": "display_data"
    }
   ],
   "source": [
    "netflix_df['Date'] = pd.to_datetime(netflix_df['Date'])\n",
    "netflix_df['Year'] = netflix_df['Date'].dt.year\n",
    "netflix_df['Month'] = netflix_df['Date'].dt.month\n",
    "\n",
    "netflix_df\n",
    "seaborn.lineplot(data = netflix_df, x = \"Year\", y = \"High\")"
   ]
  }
 ],
 "metadata": {
  "kernelspec": {
   "display_name": "Python 3.9.12 ('base')",
   "language": "python",
   "name": "python3"
  },
  "language_info": {
   "codemirror_mode": {
    "name": "ipython",
    "version": 3
   },
   "file_extension": ".py",
   "mimetype": "text/x-python",
   "name": "python",
   "nbconvert_exporter": "python",
   "pygments_lexer": "ipython3",
   "version": "3.9.12"
  },
  "vscode": {
   "interpreter": {
    "hash": "cd78fef2128015050713e82ca51c6520b11aee7c9ee8df750520bbbc7384cbaa"
   }
  }
 },
 "nbformat": 4,
 "nbformat_minor": 5
}
