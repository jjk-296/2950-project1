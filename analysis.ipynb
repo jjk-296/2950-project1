{
 "cells": [
  {
   "cell_type": "markdown",
   "metadata": {},
   "source": [
    "Project Title:\n",
    "Did Netflix Kill Movie Theaters?\n",
    "\n",
    "Research Question:\n",
    "Is there a negative correlation between worldwide box office revenue and the rise of the price of Netflix stocks in the U.S. from 2002 to 2021?\n",
    "\n",
    "Data Description:\n",
    "Netflix Stock Price: Positive exponential curve on the “High” of Netflix stocks per year. The data shows the low, high, open, close, volume for the Netflix stocks daily. \n",
    "Worldwide Box Office Revenue: A general increase in the worldwide box office revenue is shown for the top movies over time. The data shows international, domestic, worldwide box office revenue for the top 600 movies of all time, with their titles and the release year. (Note: Box office revenue doesn’t include DVD sales or streaming.)\n",
    "\n",
    "Data Limitations:\n",
    "- A major limitation of our data is that we examine correlations between worldwide box office revenue and Netflix stock prices in an effort to analyze the effect of streaming services on box office success, but not every country uses Netflix as a primary streaming service.\n",
    "- There are other prominent streaming services that will not have been accounted for as our dataset only looks at Netflix and not sites like HBO, Hulu, and others that are popular around the world.\n",
    "- Need to account for inflation as stock prices overall have increased over the years.\n",
    "- Stock prices were recorded by day whereas box office revenue was accumulated for each movie per their release year, so we will have to aggregate the data to be by year.\n",
    "\n",
    "Exploratory Data Analysis:\n",
    "[Compare the slope of the two graphs to see how steep they are.]\n",
    "We suggest that due to the popularity of Netflix, only block-bluster movies were the ones who tended to succeed at the box office, whereas more niche-genre movies did not do nearly as well and there have been modern trends of such movies moving to Netflix and other streaming sites for easier accessibility.\n",
    "\n",
    "Questions for Reviewers:\n",
    "- How comprehensive is our research question? Suggestions on improving it?\n",
    "- How do you suggest we should go about cleaning our datasets?\n",
    "- How thorough or persuasive are our analyses of the analyzed trends?\n",
    "- Other limitations of our datasets?\n",
    "- Suggestions for better visual representations of our data?"
   ]
  }
 ],
 "metadata": {
  "kernelspec": {
   "display_name": "Python 3.9.12 ('base')",
   "language": "python",
   "name": "python3"
  },
  "language_info": {
   "name": "python",
   "version": "3.9.12"
  },
  "orig_nbformat": 4,
  "vscode": {
   "interpreter": {
    "hash": "cd78fef2128015050713e82ca51c6520b11aee7c9ee8df750520bbbc7384cbaa"
   }
  }
 },
 "nbformat": 4,
 "nbformat_minor": 2
}
